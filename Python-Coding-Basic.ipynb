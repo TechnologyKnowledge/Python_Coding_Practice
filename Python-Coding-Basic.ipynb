{
 "cells": [
  {
   "cell_type": "markdown",
   "metadata": {},
   "source": [
    "# Data Types & Type Casting"
   ]
  },
  {
   "cell_type": "code",
   "execution_count": 133,
   "metadata": {},
   "outputs": [],
   "source": [
    "# bool, int, float, str \n",
    "# python case sensitive\n"
   ]
  },
  {
   "cell_type": "code",
   "execution_count": 134,
   "metadata": {},
   "outputs": [],
   "source": [
    "# bool --> int --> float --->str"
   ]
  },
  {
   "cell_type": "code",
   "execution_count": 155,
   "metadata": {},
   "outputs": [
    {
     "name": "stdout",
     "output_type": "stream",
     "text": [
      "<class 'int'>\n",
      "<class 'float'>\n",
      "<class 'str'>\n",
      "<class 'bool'>\n",
      "<class 'NoneType'>\n"
     ]
    }
   ],
   "source": [
    "print(type(2))  # returns 'int’ \n",
    "print(type(2.0)) # returns 'float’ \n",
    "print(type('two')) # returns 'str’ \n",
    "print(type(True)) # returns 'bool’ \n",
    "print(type(None)) # returns 'NoneType'"
   ]
  },
  {
   "cell_type": "code",
   "execution_count": 135,
   "metadata": {},
   "outputs": [
    {
     "name": "stdout",
     "output_type": "stream",
     "text": [
      "<class 'int'>\n",
      "<class 'float'>\n",
      "<class 'str'>\n",
      "<class 'bool'>\n"
     ]
    }
   ],
   "source": [
    "#forced / manual typecasting\n",
    "a= 3\n",
    "b = 4.5\n",
    "name = \"Sachin\"\n",
    "\n",
    "z = True\n",
    "\n",
    "print(type(a))\n",
    "print(type(b))\n",
    "print(type(name))\n",
    "print(type(z))"
   ]
  },
  {
   "cell_type": "markdown",
   "metadata": {},
   "source": [
    "### Auto TypeCasting\n"
   ]
  },
  {
   "cell_type": "code",
   "execution_count": 137,
   "metadata": {},
   "outputs": [
    {
     "name": "stdout",
     "output_type": "stream",
     "text": [
      "7.5\n",
      "7\n",
      "4\n",
      "6.0\n"
     ]
    }
   ],
   "source": [
    "print(3 + 4.5)\n",
    "print(a + int(b))\n",
    "\n",
    "# True -> 1, False -> 0\n",
    "print(False + 4)\n",
    "\n",
    "print(5.0 + True)"
   ]
  },
  {
   "cell_type": "code",
   "execution_count": 141,
   "metadata": {},
   "outputs": [
    {
     "name": "stdout",
     "output_type": "stream",
     "text": [
      "3\n",
      "3.0\n",
      "True True False\n"
     ]
    }
   ],
   "source": [
    "print(int(3.4))\n",
    "print(float(3))\n",
    "\n",
    "#Anything not zero is taken as booleon True\n",
    "print(bool(-18.9), bool(2),bool(0))"
   ]
  },
  {
   "cell_type": "code",
   "execution_count": 148,
   "metadata": {},
   "outputs": [
    {
     "name": "stdout",
     "output_type": "stream",
     "text": [
      "9\n",
      "7.5\n",
      "12\n",
      "10.7\n"
     ]
    }
   ],
   "source": [
    "print(3 + int('6'))\n",
    "print(3.5 + bool(-18) + int('3'))\n",
    "print(int(3.4 + bool(2)+int(8.4)))\n",
    "print(int('3') + 6.7 + bool(\"Me\"))"
   ]
  },
  {
   "cell_type": "markdown",
   "metadata": {},
   "source": [
    "# Slicing"
   ]
  },
  {
   "cell_type": "code",
   "execution_count": 165,
   "metadata": {},
   "outputs": [],
   "source": [
    "d = 'I am a Data Scientist'\n",
    "\n",
    "# :  is a slicing operator\n",
    "\n",
    "# 'I am a Data Scientist'\n",
    "# '012345678901.........'\n",
    "\n"
   ]
  },
  {
   "cell_type": "code",
   "execution_count": 166,
   "metadata": {},
   "outputs": [
    {
     "name": "stdout",
     "output_type": "stream",
     "text": [
      "21\n",
      "Data\n",
      "Data Scientist\n",
      "I am a Data\n",
      "True\n"
     ]
    }
   ],
   "source": [
    "print(len(d))\n",
    "print(d[7:11])\n",
    "print(d[7:])\n",
    "print(d[:11])\n",
    "print(bool(d))"
   ]
  },
  {
   "cell_type": "code",
   "execution_count": 167,
   "metadata": {},
   "outputs": [
    {
     "data": {
      "text/plain": [
       "''"
      ]
     },
     "execution_count": 167,
     "metadata": {},
     "output_type": "execute_result"
    }
   ],
   "source": [
    "d[10:3] # 10 > 3"
   ]
  },
  {
   "cell_type": "code",
   "execution_count": 168,
   "metadata": {},
   "outputs": [
    {
     "name": "stdout",
     "output_type": "stream",
     "text": [
      "0\n"
     ]
    }
   ],
   "source": [
    "print(len(d[10:3])) # 10 > 3"
   ]
  },
  {
   "cell_type": "markdown",
   "metadata": {},
   "source": [
    "# Math Operators"
   ]
  },
  {
   "cell_type": "code",
   "execution_count": 44,
   "metadata": {},
   "outputs": [
    {
     "name": "stdout",
     "output_type": "stream",
     "text": [
      "14\n",
      "6\n",
      "40\n",
      "10000\n",
      "2.5\n",
      "2\n",
      "1\n"
     ]
    }
   ],
   "source": [
    "print(10 + 4) # add (returns 14) \n",
    "print(10 - 4) # subtract (returns 6) \n",
    "print(10 * 4) # multiply (returns 40) \n",
    "print(10**4) # exponent (returns 10000) \n",
    "print(10 / 4) # divide (returns 2.5) \n",
    "print(10 // 4) # divide (returns 2) \n",
    "print(5 % 4) # modulo (returns 1) - also known as the remainder"
   ]
  },
  {
   "cell_type": "markdown",
   "metadata": {},
   "source": [
    "# Logical / Comparision Operators"
   ]
  },
  {
   "cell_type": "code",
   "execution_count": 45,
   "metadata": {},
   "outputs": [
    {
     "name": "stdout",
     "output_type": "stream",
     "text": [
      "True\n",
      "True\n",
      "False\n",
      "True\n"
     ]
    }
   ],
   "source": [
    "# comparisons (these return True) \n",
    "print(5 > 3 )\n",
    "print(5 >= 3)\n",
    "print(5 != 5)\n",
    "print(5 == 5) # boolean operations (these return True) \n",
    "\n",
    "# evaluation order: not, and, or\n",
    "\n"
   ]
  },
  {
   "cell_type": "code",
   "execution_count": 169,
   "metadata": {},
   "outputs": [
    {
     "name": "stdout",
     "output_type": "stream",
     "text": [
      "False\n",
      "True\n",
      "True\n",
      "True\n"
     ]
    }
   ],
   "source": [
    "print(5 > 3 and 6 < 3 )\n",
    "\n",
    "print(5 > 3 or 5 < 3 )\n",
    "\n",
    "print(5 < 3 or 5 > 3 )\n",
    "\n",
    "print((5>3) or (10>12))"
   ]
  },
  {
   "cell_type": "code",
   "execution_count": 170,
   "metadata": {},
   "outputs": [
    {
     "name": "stdout",
     "output_type": "stream",
     "text": [
      "True\n",
      "True\n",
      "18.9\n"
     ]
    }
   ],
   "source": [
    "print(True == bool(23))\n",
    "\n",
    "print((5 >= 3 or 6 > 100) and (True == bool(23)))\n",
    "\n",
    "print( True and 18.9)"
   ]
  },
  {
   "cell_type": "markdown",
   "metadata": {},
   "source": [
    "# Conditional Statements"
   ]
  },
  {
   "cell_type": "code",
   "execution_count": 52,
   "metadata": {},
   "outputs": [
    {
     "name": "stdout",
     "output_type": "stream",
     "text": [
      "This is Else Block\n"
     ]
    }
   ],
   "source": [
    "if (False):\n",
    "    print(\"This is IF block\")\n",
    "else :\n",
    "    print(\"This is Else Block\")"
   ]
  },
  {
   "cell_type": "code",
   "execution_count": 53,
   "metadata": {},
   "outputs": [
    {
     "name": "stdout",
     "output_type": "stream",
     "text": [
      "False block\n"
     ]
    }
   ],
   "source": [
    "\n",
    "if (5<3) :\n",
    "    print(\"True block statement 1\")\n",
    "else:\n",
    "    print(\"False block\")\n",
    "\n"
   ]
  },
  {
   "cell_type": "code",
   "execution_count": 54,
   "metadata": {},
   "outputs": [
    {
     "name": "stdout",
     "output_type": "stream",
     "text": [
      "True block statement 1\n"
     ]
    }
   ],
   "source": [
    "if (5 > 3) :\n",
    "    print(\"True block statement 1\")\n",
    "else:\n",
    "    print(\"False block\")"
   ]
  },
  {
   "cell_type": "code",
   "execution_count": 55,
   "metadata": {},
   "outputs": [
    {
     "name": "stdout",
     "output_type": "stream",
     "text": [
      "X is ZERO\n"
     ]
    }
   ],
   "source": [
    "x = 0\n",
    "if (x > 0) :\n",
    "    print(\"X is Positive\")\n",
    "\n",
    "elif (x<0):\n",
    "    print(\"X is Negative\")   \n",
    "else:\n",
    "    print(\"X is ZERO\")\n",
    "\n",
    "          "
   ]
  },
  {
   "cell_type": "code",
   "execution_count": 56,
   "metadata": {},
   "outputs": [
    {
     "name": "stdout",
     "output_type": "stream",
     "text": [
      "X is positive Value or -100\n",
      "I am if loop\n",
      "I am out of IF looP\n"
     ]
    }
   ],
   "source": [
    "x=-100\n",
    "\n",
    "if ((x>0) or (x==-100)):\n",
    "    print(\"X is positive Value or -100\")\n",
    "    print(\"I am if loop\")\n",
    "elif (x<0):\n",
    "    print(\"I am in else if block\")\n",
    "    print(\"X is negative\")\n",
    "else:\n",
    "    print(\"X is Zero\")\n",
    "    \n",
    "print(\"I am out of IF looP\")\n",
    "    "
   ]
  },
  {
   "cell_type": "code",
   "execution_count": 57,
   "metadata": {},
   "outputs": [
    {
     "name": "stdout",
     "output_type": "stream",
     "text": [
      "6  is even number\n",
      "this is out of IF else block\n"
     ]
    }
   ],
   "source": [
    "x = 6\n",
    "\n",
    "if x%2 == 0 :\n",
    "    print(x, \" is even number\")\n",
    "else :\n",
    "    print(x, \" is ODD number\")\n",
    "\n",
    "print(\"this is out of IF else block\")\n",
    "\n"
   ]
  },
  {
   "cell_type": "code",
   "execution_count": 58,
   "metadata": {},
   "outputs": [
    {
     "name": "stdout",
     "output_type": "stream",
     "text": [
      "negative\n",
      "I am out of IF block\n"
     ]
    }
   ],
   "source": [
    "x = -20\n",
    "# if/elif/else statement\n",
    "if x > 0:\n",
    "    print('positive') \n",
    "    print('hello')\n",
    "elif x == 0: \n",
    "    print('zero') \n",
    "else: \n",
    "    print('negative') \n",
    "print(\"I am out of IF block\")\n"
   ]
  },
  {
   "cell_type": "code",
   "execution_count": 59,
   "metadata": {},
   "outputs": [
    {
     "name": "stdout",
     "output_type": "stream",
     "text": [
      "positive\n"
     ]
    }
   ],
   "source": [
    "# single-line if statement (sometimes discouraged) \n",
    "x=5\n",
    "if x > 0: print('positive') \n"
   ]
  },
  {
   "cell_type": "markdown",
   "metadata": {},
   "source": [
    "# Lists\n",
    " Python lists are very flexible and can hold completely heterogeneous, arbitrary data, and they can be appended to very efficiently.\n",
    " "
   ]
  },
  {
   "cell_type": "code",
   "execution_count": 60,
   "metadata": {},
   "outputs": [],
   "source": [
    "# create a list \n",
    "# create an empty list (two ways) \n",
    "empty_list = [] \n",
    "empty_list = list() \n"
   ]
  },
  {
   "cell_type": "code",
   "execution_count": 173,
   "metadata": {},
   "outputs": [
    {
     "name": "stdout",
     "output_type": "stream",
     "text": [
      "[3, 5, 7.5, 88, 99.0, 'sachin', True]\n",
      "7\n",
      "7.5 3 sachin\n",
      "<class 'list'>\n"
     ]
    }
   ],
   "source": [
    "l1 = [3,5,7.5,88,99., \"sachin\", True]\n",
    "print(l1)\n",
    "print(len(l1))\n",
    "\n",
    "print(l1[2] ,l1[0]  ,l1[-2])\n",
    "\n",
    "print(type(l1))"
   ]
  },
  {
   "cell_type": "code",
   "execution_count": 175,
   "metadata": {},
   "outputs": [
    {
     "name": "stdout",
     "output_type": "stream",
     "text": [
      "[3, 4.0, 'Hi me?', True, 6, [5, 'I am another list']]\n",
      "[5, 'I am another list']\n",
      "5\n",
      "I am another list\n"
     ]
    }
   ],
   "source": [
    "l2 = [3,4.0,\"Hi me?\",True, 6,[5,\"I am another list\"]]\n",
    "\n",
    "print(l2)\n",
    "\n",
    "print(l2[5])\n",
    "\n",
    "print(l2[5][0])\n",
    "\n",
    "print(l2[5][1])"
   ]
  },
  {
   "cell_type": "code",
   "execution_count": 181,
   "metadata": {},
   "outputs": [
    {
     "name": "stdout",
     "output_type": "stream",
     "text": [
      "[3, 4, 5.9, 15]\n"
     ]
    }
   ],
   "source": [
    "my_list = [3,4,15,5.9]\n",
    "\n",
    "print(sorted(my_list))"
   ]
  },
  {
   "cell_type": "code",
   "execution_count": null,
   "metadata": {},
   "outputs": [],
   "source": []
  },
  {
   "cell_type": "code",
   "execution_count": 198,
   "metadata": {},
   "outputs": [
    {
     "data": {
      "text/plain": [
       "['mom', 'dad']"
      ]
     },
     "execution_count": 198,
     "metadata": {},
     "output_type": "execute_result"
    }
   ],
   "source": [
    "myfamily = ['mom','dad']\n",
    "myfamily"
   ]
  },
  {
   "cell_type": "code",
   "execution_count": 199,
   "metadata": {},
   "outputs": [
    {
     "data": {
      "text/plain": [
       "['mom', 'dad', 'wife', 'bro']"
      ]
     },
     "execution_count": 199,
     "metadata": {},
     "output_type": "execute_result"
    }
   ],
   "source": [
    "myfamily.extend(['wife','bro'])\n",
    "\n",
    "myfamily"
   ]
  },
  {
   "cell_type": "code",
   "execution_count": 200,
   "metadata": {},
   "outputs": [
    {
     "data": {
      "text/plain": [
       "['mom', 'dad', 'wife', 'bro', 'me']"
      ]
     },
     "execution_count": 200,
     "metadata": {},
     "output_type": "execute_result"
    }
   ],
   "source": [
    "myfamily.append(\"me\")\n",
    "myfamily"
   ]
  },
  {
   "cell_type": "code",
   "execution_count": 201,
   "metadata": {
    "scrolled": true
   },
   "outputs": [
    {
     "data": {
      "text/plain": [
       "['mom', 'dad', 'wife', 'bro', 'me', ['son', 'bro', 'daughter']]"
      ]
     },
     "execution_count": 201,
     "metadata": {},
     "output_type": "execute_result"
    }
   ],
   "source": [
    "myfamily.append(['son','bro','daughter'])\n",
    "\n",
    "myfamily"
   ]
  },
  {
   "cell_type": "code",
   "execution_count": 202,
   "metadata": {},
   "outputs": [
    {
     "data": {
      "text/plain": [
       "['mom', 'dad', 'sachin', 'wife', 'bro', 'me', ['son', 'bro', 'daughter']]"
      ]
     },
     "execution_count": 202,
     "metadata": {},
     "output_type": "execute_result"
    }
   ],
   "source": [
    "myfamily.insert(2,'sachin')\n",
    "myfamily"
   ]
  },
  {
   "cell_type": "code",
   "execution_count": 203,
   "metadata": {},
   "outputs": [
    {
     "data": {
      "text/plain": [
       "'wife'"
      ]
     },
     "execution_count": 203,
     "metadata": {},
     "output_type": "execute_result"
    }
   ],
   "source": [
    "myfamily.pop(3)"
   ]
  },
  {
   "cell_type": "code",
   "execution_count": 204,
   "metadata": {},
   "outputs": [
    {
     "data": {
      "text/plain": [
       "['mom', 'dad', 'sachin', 'bro', 'me', ['son', 'bro', 'daughter']]"
      ]
     },
     "execution_count": 204,
     "metadata": {},
     "output_type": "execute_result"
    }
   ],
   "source": [
    "myfamily"
   ]
  },
  {
   "cell_type": "code",
   "execution_count": 205,
   "metadata": {},
   "outputs": [
    {
     "data": {
      "text/plain": [
       "['mom', 'dad', 'sachin', 'me', ['son', 'bro', 'daughter']]"
      ]
     },
     "execution_count": 205,
     "metadata": {},
     "output_type": "execute_result"
    }
   ],
   "source": [
    "myfamily.remove('bro')\n",
    "myfamily"
   ]
  },
  {
   "cell_type": "markdown",
   "metadata": {},
   "source": [
    "# Tuples\n",
    "A tuple is a sequence of immutable Python objects. Tuples are sequences, just like lists. The differences between tuples and lists are, the tuples cannot be changed unlike lists and tuples use parentheses, whereas lists use square brackets. Creating a tuple is as simple as putting different comma-separated values."
   ]
  },
  {
   "cell_type": "code",
   "execution_count": 207,
   "metadata": {},
   "outputs": [
    {
     "name": "stdout",
     "output_type": "stream",
     "text": [
      "<class 'tuple'>\n",
      "<class 'tuple'>\n"
     ]
    },
    {
     "data": {
      "text/plain": [
       "(0, 1, 'two', 0, 1, 1, 1)"
      ]
     },
     "execution_count": 207,
     "metadata": {},
     "output_type": "execute_result"
    }
   ],
   "source": [
    "# create a empty tuple \n",
    "empty_tuple = ()\n",
    "empty_tuple1 = tuple()\n",
    "\n",
    "print(type(empty_tuple))\n",
    "\n",
    "print(type(empty_tuple1))\n",
    "\n",
    "\n",
    "# create a tuple \n",
    "t = (0, 1, 'two',0,1,1,1)  # create a tuple directly \n",
    "t"
   ]
  },
  {
   "cell_type": "code",
   "execution_count": 213,
   "metadata": {},
   "outputs": [
    {
     "name": "stdout",
     "output_type": "stream",
     "text": [
      "1\n",
      "7\n",
      "4\n",
      "2\n"
     ]
    }
   ],
   "source": [
    "\n",
    "list_val = [10,3, 1, 'two',3,3,3]\n",
    "\n",
    "digits = tuple(list_val)  # create a tuple from a list \n",
    "# examine a tuple \n",
    "print(digits[2])  \n",
    "print(len(digits))\n",
    "\n",
    "print(digits.count(3)) \n",
    "\n",
    "\n",
    "print(digits.index(1))"
   ]
  },
  {
   "cell_type": "code",
   "execution_count": 216,
   "metadata": {},
   "outputs": [
    {
     "ename": "TypeError",
     "evalue": "'tuple' object does not support item assignment",
     "output_type": "error",
     "traceback": [
      "\u001b[0;31m---------------------------------------------------------------------------\u001b[0m",
      "\u001b[0;31mTypeError\u001b[0m                                 Traceback (most recent call last)",
      "\u001b[0;32m<ipython-input-216-4afe306b5a17>\u001b[0m in \u001b[0;36m<module>\u001b[0;34m\u001b[0m\n\u001b[0;32m----> 1\u001b[0;31m \u001b[0mdigits\u001b[0m\u001b[0;34m[\u001b[0m\u001b[0;36m1\u001b[0m\u001b[0;34m]\u001b[0m\u001b[0;34m=\u001b[0m \u001b[0;34m'one'\u001b[0m \u001b[0;31m#returns an assignment error\u001b[0m\u001b[0;34m\u001b[0m\u001b[0;34m\u001b[0m\u001b[0m\n\u001b[0m",
      "\u001b[0;31mTypeError\u001b[0m: 'tuple' object does not support item assignment"
     ]
    }
   ],
   "source": [
    "digits[1]= 'one' #returns an assignment error"
   ]
  },
  {
   "cell_type": "code",
   "execution_count": 219,
   "metadata": {},
   "outputs": [
    {
     "data": {
      "text/plain": [
       "['sachin', 'kohali', 'dhoni']"
      ]
     },
     "execution_count": 219,
     "metadata": {},
     "output_type": "execute_result"
    }
   ],
   "source": [
    "l3 = [\"sachin\" , \"kohali\" , \"dhoni\"]\n",
    "l3"
   ]
  },
  {
   "cell_type": "code",
   "execution_count": 220,
   "metadata": {
    "scrolled": true
   },
   "outputs": [
    {
     "data": {
      "text/plain": [
       "['sachin', 'kohali', 'rohit']"
      ]
     },
     "execution_count": 220,
     "metadata": {},
     "output_type": "execute_result"
    }
   ],
   "source": [
    "l3[2] = \"rohit\"\n",
    "l3"
   ]
  },
  {
   "cell_type": "code",
   "execution_count": 221,
   "metadata": {},
   "outputs": [
    {
     "data": {
      "text/plain": [
       "('sachin', 'kohali', 'rohit')"
      ]
     },
     "execution_count": 221,
     "metadata": {},
     "output_type": "execute_result"
    }
   ],
   "source": [
    "# list convet into tuple\n",
    "\n",
    "t1 = tuple(l3)\n",
    "t1"
   ]
  },
  {
   "cell_type": "code",
   "execution_count": 222,
   "metadata": {},
   "outputs": [
    {
     "name": "stdout",
     "output_type": "stream",
     "text": [
      "(1, 3.0, 'works')\n"
     ]
    },
    {
     "data": {
      "text/plain": [
       "[1, 3.0, 'works']"
      ]
     },
     "execution_count": 222,
     "metadata": {},
     "output_type": "execute_result"
    }
   ],
   "source": [
    "my_tuple = (1,3.0,'works')\n",
    "print(my_tuple)\n",
    "\n",
    "\n",
    "#tuple convet into list\n",
    "\n",
    "l4 = list(my_tuple)\n",
    "l4"
   ]
  },
  {
   "cell_type": "markdown",
   "metadata": {},
   "source": [
    "# Strings"
   ]
  },
  {
   "cell_type": "code",
   "execution_count": 226,
   "metadata": {
    "scrolled": true
   },
   "outputs": [
    {
     "name": "stdout",
     "output_type": "stream",
     "text": [
      "I\n",
      "10\n",
      "I like\n",
      "you\n",
      "u\n",
      "10\n"
     ]
    }
   ],
   "source": [
    "# create a string \n",
    "s = 'I like you' # examine a string \n",
    "\n",
    "print(s[0]) # returns 'I’ \n",
    "print(len(s)) # returns 10 \n",
    "# string slicing like lists\n",
    "print(s[:6]) # returns 'I like’\n",
    "print(s[7:]) # returns 'you’\n",
    "print(s[-1] )# returns 'u' \n",
    "\n",
    "print(len(s))"
   ]
  },
  {
   "cell_type": "code",
   "execution_count": 224,
   "metadata": {},
   "outputs": [
    {
     "data": {
      "text/plain": [
       "'uoy ekil I'"
      ]
     },
     "execution_count": 224,
     "metadata": {},
     "output_type": "execute_result"
    }
   ],
   "source": [
    "s[::-1] #reverse string"
   ]
  },
  {
   "cell_type": "code",
   "execution_count": 225,
   "metadata": {},
   "outputs": [
    {
     "name": "stdout",
     "output_type": "stream",
     "text": [
      "i like you\n",
      "I LIKE YOU\n"
     ]
    }
   ],
   "source": [
    "print(s.lower())\n",
    "print(s.upper())"
   ]
  },
  {
   "cell_type": "markdown",
   "metadata": {},
   "source": [
    "# Dictionaries\n",
    "Python dictionary is an unordered collection of items. While other compound data types have only value as an element, a dictionary has a key: value pair.\n",
    "\n",
    "Dictionaries are optimized to retrieve values when the key is known."
   ]
  },
  {
   "cell_type": "code",
   "execution_count": 233,
   "metadata": {},
   "outputs": [],
   "source": [
    "# create an empty dictionary (two ways) \n",
    "empty_dict = {} \n",
    "empty_dict = dict() \n",
    "# create a dictionary (two ways) \n",
    "my_pro = {'name':'Sachine', 'job':'Data Scientist', \n",
    "          'location':\"mumbai\", \"years_exp\":7, 9  : 11} \n",
    "\n",
    "\n",
    "cust_profile = dict(cust_id = 24,name='Anand', age=43, \n",
    "                    job=['programmer','CEO','Data Scientist'],\n",
    "                    location=\"delhi\", years_Exp=11) "
   ]
  },
  {
   "cell_type": "code",
   "execution_count": 228,
   "metadata": {},
   "outputs": [
    {
     "data": {
      "text/plain": [
       "{'name': 'Sachine',\n",
       " 'job': 'Data Scientist',\n",
       " 'location': 'mumbai',\n",
       " 'years_exp': 7,\n",
       " 9: 11}"
      ]
     },
     "execution_count": 228,
     "metadata": {},
     "output_type": "execute_result"
    }
   ],
   "source": [
    "my_pro"
   ]
  },
  {
   "cell_type": "code",
   "execution_count": 229,
   "metadata": {
    "scrolled": true
   },
   "outputs": [
    {
     "data": {
      "text/plain": [
       "{'cust_id': 24,\n",
       " 'name': 'Anand',\n",
       " 'age': 43,\n",
       " 'job': ['programmer', 'CEO', 'Data Scientist'],\n",
       " 'location': 'delhi',\n",
       " 'years_Exp': 11}"
      ]
     },
     "execution_count": 229,
     "metadata": {},
     "output_type": "execute_result"
    }
   ],
   "source": [
    "cust_profile"
   ]
  },
  {
   "cell_type": "code",
   "execution_count": 231,
   "metadata": {},
   "outputs": [
    {
     "name": "stdout",
     "output_type": "stream",
     "text": [
      "dict_keys(['name', 'job', 'location', 'years_exp', 9])\n"
     ]
    }
   ],
   "source": [
    "print(my_pro.keys())"
   ]
  },
  {
   "cell_type": "code",
   "execution_count": 232,
   "metadata": {},
   "outputs": [
    {
     "name": "stdout",
     "output_type": "stream",
     "text": [
      "dict_values(['Sachine', 'Data Scientist', 'mumbai', 7, 11])\n"
     ]
    }
   ],
   "source": [
    "print(my_pro.values())"
   ]
  },
  {
   "cell_type": "code",
   "execution_count": 234,
   "metadata": {},
   "outputs": [
    {
     "name": "stdout",
     "output_type": "stream",
     "text": [
      "Data Scientist\n"
     ]
    }
   ],
   "source": [
    "print(my_pro['job'])"
   ]
  },
  {
   "cell_type": "markdown",
   "metadata": {},
   "source": [
    "# Sets\n",
    "A set contains an unordered collection of unique and immutable objects. The set data type is, as the name implies, a Python implementation of the sets as they are known from mathematics. This explains, why sets unlike lists or tuples can't have multiple occurrences of the same element."
   ]
  },
  {
   "cell_type": "code",
   "execution_count": null,
   "metadata": {},
   "outputs": [],
   "source": []
  },
  {
   "cell_type": "code",
   "execution_count": 107,
   "metadata": {},
   "outputs": [
    {
     "name": "stdout",
     "output_type": "stream",
     "text": [
      "{'java', 'r', 'python'}\n",
      "{'cobra', 'viper', 'python'}\n"
     ]
    }
   ],
   "source": [
    "# create an empty set\n",
    "empty_set = set()\n",
    "# create a set\n",
    "lang = {'python', 'r', 'java'} # create a set directly \n",
    "snakes = set(['cobra', 'viper', 'python','python']) # create a set from a list \n",
    "print(lang)\n",
    "print(snakes)"
   ]
  },
  {
   "cell_type": "code",
   "execution_count": 108,
   "metadata": {},
   "outputs": [
    {
     "data": {
      "text/plain": [
       "{'cobra', 'java', 'python', 'r', 'viper'}"
      ]
     },
     "execution_count": 108,
     "metadata": {},
     "output_type": "execute_result"
    }
   ],
   "source": [
    "snakes.union(lang)"
   ]
  },
  {
   "cell_type": "code",
   "execution_count": 109,
   "metadata": {},
   "outputs": [
    {
     "data": {
      "text/plain": [
       "{'python'}"
      ]
     },
     "execution_count": 109,
     "metadata": {},
     "output_type": "execute_result"
    }
   ],
   "source": [
    "snakes.intersection(lang)"
   ]
  },
  {
   "cell_type": "code",
   "execution_count": 110,
   "metadata": {},
   "outputs": [
    {
     "data": {
      "text/plain": [
       "{'python'}"
      ]
     },
     "execution_count": 110,
     "metadata": {},
     "output_type": "execute_result"
    }
   ],
   "source": [
    "# examine a set \n",
    "\n",
    "lang.intersection(snakes)"
   ]
  },
  {
   "cell_type": "code",
   "execution_count": null,
   "metadata": {},
   "outputs": [],
   "source": []
  },
  {
   "cell_type": "markdown",
   "metadata": {},
   "source": [
    "# Functions"
   ]
  },
  {
   "cell_type": "code",
   "execution_count": 236,
   "metadata": {},
   "outputs": [],
   "source": [
    "def sayhello():\n",
    "    return print(\"HELOOOOO\")\n",
    "\n",
    "\n",
    "    "
   ]
  },
  {
   "cell_type": "code",
   "execution_count": 237,
   "metadata": {},
   "outputs": [
    {
     "name": "stdout",
     "output_type": "stream",
     "text": [
      "HELOOOOO\n"
     ]
    }
   ],
   "source": [
    "sayhello()"
   ]
  },
  {
   "cell_type": "code",
   "execution_count": 238,
   "metadata": {},
   "outputs": [
    {
     "data": {
      "text/plain": [
       "9"
      ]
     },
     "execution_count": 238,
     "metadata": {},
     "output_type": "execute_result"
    }
   ],
   "source": [
    "def squareit(x=0):\n",
    "    if(x==0):\n",
    "        print(\"please give a number for squaring\")\n",
    "    else:\n",
    "        return x**2\n",
    "\n",
    "\n",
    "squareit(3)"
   ]
  },
  {
   "cell_type": "code",
   "execution_count": 239,
   "metadata": {},
   "outputs": [
    {
     "name": "stdout",
     "output_type": "stream",
     "text": [
      "please give a number for squaring\n"
     ]
    }
   ],
   "source": [
    "squareit()"
   ]
  },
  {
   "cell_type": "code",
   "execution_count": 241,
   "metadata": {},
   "outputs": [
    {
     "data": {
      "text/plain": [
       "23.889462809917354"
      ]
     },
     "execution_count": 241,
     "metadata": {},
     "output_type": "execute_result"
    }
   ],
   "source": [
    "#weight in kgs, height in cms.\n",
    "def bmi(weight,height):\n",
    "     return weight / (height/100)**2\n",
    "\n",
    "    \n",
    "    \n",
    "bmi(74,176)  "
   ]
  },
  {
   "cell_type": "code",
   "execution_count": 242,
   "metadata": {},
   "outputs": [
    {
     "name": "stdout",
     "output_type": "stream",
     "text": [
      "7500.0\n"
     ]
    },
    {
     "data": {
      "text/plain": [
       "23.889462809917354"
      ]
     },
     "execution_count": 242,
     "metadata": {},
     "output_type": "execute_result"
    }
   ],
   "source": [
    "#weight in kgs, height in cms.\n",
    "def bmi_test(weight,height = 2):\n",
    "     return weight / (height/100)**2\n",
    "    \n",
    "print(bmi_test(3))\n",
    "\n",
    "bmi_test(74,176)"
   ]
  },
  {
   "cell_type": "code",
   "execution_count": 132,
   "metadata": {},
   "outputs": [
    {
     "data": {
      "text/plain": [
       "73.4"
      ]
     },
     "execution_count": 132,
     "metadata": {},
     "output_type": "execute_result"
    }
   ],
   "source": [
    "ban_temp=c2f(23)\n",
    "ban_temp"
   ]
  },
  {
   "cell_type": "code",
   "execution_count": 123,
   "metadata": {},
   "outputs": [],
   "source": [
    "def iseven(x=0):\n",
    "    if (x==0):\n",
    "        return print(\"please provide arg\")\n",
    "    elif (x%2==0):\n",
    "        return True\n",
    "    else:\n",
    "        return False\n",
    "    \n"
   ]
  },
  {
   "cell_type": "code",
   "execution_count": 243,
   "metadata": {},
   "outputs": [
    {
     "data": {
      "text/plain": [
       "False"
      ]
     },
     "execution_count": 243,
     "metadata": {},
     "output_type": "execute_result"
    }
   ],
   "source": [
    "iseven(7)"
   ]
  },
  {
   "cell_type": "code",
   "execution_count": 244,
   "metadata": {},
   "outputs": [
    {
     "data": {
      "text/plain": [
       "True"
      ]
     },
     "execution_count": 244,
     "metadata": {},
     "output_type": "execute_result"
    }
   ],
   "source": [
    "iseven(8)"
   ]
  },
  {
   "cell_type": "code",
   "execution_count": 245,
   "metadata": {},
   "outputs": [
    {
     "name": "stdout",
     "output_type": "stream",
     "text": [
      "2\n"
     ]
    }
   ],
   "source": [
    "# define a function with one argument and no return values \n",
    "def print_this(x):  print(x) \n",
    "\n",
    "print_this(2)"
   ]
  },
  {
   "cell_type": "markdown",
   "metadata": {},
   "source": [
    "# Loops"
   ]
  },
  {
   "cell_type": "code",
   "execution_count": 246,
   "metadata": {},
   "outputs": [
    {
     "name": "stdout",
     "output_type": "stream",
     "text": [
      "['apple', 'banana', 'cherry', 'mango']\n"
     ]
    }
   ],
   "source": [
    "# alternative for loop (recommended style)\n",
    "fruits = ['apple', 'banana', 'cherry','mango'] \n",
    " \n",
    "print(fruits)"
   ]
  },
  {
   "cell_type": "code",
   "execution_count": 247,
   "metadata": {},
   "outputs": [
    {
     "name": "stdout",
     "output_type": "stream",
     "text": [
      "apple\n",
      "banana\n",
      "cherry\n",
      "mango\n"
     ]
    }
   ],
   "source": [
    "for fruit in fruits: \n",
    "        print(fruit)"
   ]
  },
  {
   "cell_type": "code",
   "execution_count": 248,
   "metadata": {},
   "outputs": [
    {
     "name": "stdout",
     "output_type": "stream",
     "text": [
      "a\n",
      "b\n",
      "c\n",
      "m\n"
     ]
    }
   ],
   "source": [
    "for fruit in fruits: \n",
    "        print(fruit[0])"
   ]
  },
  {
   "cell_type": "code",
   "execution_count": 249,
   "metadata": {},
   "outputs": [
    {
     "name": "stdout",
     "output_type": "stream",
     "text": [
      "0\n",
      "1\n",
      "2\n"
     ]
    }
   ],
   "source": [
    "for x in range(3):\n",
    "    print(x)"
   ]
  },
  {
   "cell_type": "code",
   "execution_count": 250,
   "metadata": {},
   "outputs": [
    {
     "name": "stdout",
     "output_type": "stream",
     "text": [
      "0\n",
      "1\n",
      "2\n"
     ]
    }
   ],
   "source": [
    "for i in range(0, 3):\n",
    "    print(i)\n"
   ]
  },
  {
   "cell_type": "code",
   "execution_count": 253,
   "metadata": {},
   "outputs": [
    {
     "name": "stdout",
     "output_type": "stream",
     "text": [
      "5\n",
      "4\n",
      "3\n"
     ]
    }
   ],
   "source": [
    "for i in range(5,2, -1):\n",
    "    print(i)"
   ]
  }
 ],
 "metadata": {
  "kernelspec": {
   "display_name": "Python 3",
   "language": "python",
   "name": "python3"
  },
  "language_info": {
   "codemirror_mode": {
    "name": "ipython",
    "version": 3
   },
   "file_extension": ".py",
   "mimetype": "text/x-python",
   "name": "python",
   "nbconvert_exporter": "python",
   "pygments_lexer": "ipython3",
   "version": "3.7.9"
  }
 },
 "nbformat": 4,
 "nbformat_minor": 2
}
